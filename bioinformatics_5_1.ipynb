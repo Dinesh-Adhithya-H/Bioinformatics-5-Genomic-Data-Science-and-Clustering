{
 "cells": [
  {
   "cell_type": "markdown",
   "metadata": {},
   "source": [
    "# Farthest First Traversal"
   ]
  },
  {
   "cell_type": "markdown",
   "metadata": {},
   "source": [
    "### clustering heuristic that tries to find the k farthest data points in a list .The first point is randomly decided and the distance between 2 data points is the eucledian distance."
   ]
  },
  {
   "cell_type": "code",
   "execution_count": 1,
   "metadata": {},
   "outputs": [],
   "source": [
    "def farthestfirst(data,k):\n",
    "    centers=[data[0]]\n",
    "    data=data[1:]\n",
    "    while len(centers)<k:\n",
    "        d_cur=0\n",
    "        d_max=0\n",
    "        new_cen=0\n",
    "        for i in data:\n",
    "            d_cur=distance(i,centers)\n",
    "            if d_cur>d_max:\n",
    "                new_cen=i\n",
    "                d_max=d_cur\n",
    "        centers.append(new_cen)\n",
    "        data.remove(new_cen)\n",
    "    return(centers)            "
   ]
  },
  {
   "cell_type": "code",
   "execution_count": 150,
   "metadata": {},
   "outputs": [],
   "source": [
    "def distance(dpoint,centers):\n",
    "    length=0\n",
    "    length_f=0\n",
    "    for i in centers:\n",
    "        list1=[]\n",
    "        for j in range(len(i)):\n",
    "            length+=(dpoint[j]-i[j])**2\n",
    "        length=length**0.5\n",
    "        list1.append(length)\n",
    "    length_f=max(list1)\n",
    "    return(length_f)"
   ]
  },
  {
   "cell_type": "code",
   "execution_count": 239,
   "metadata": {},
   "outputs": [
    {
     "data": {
      "text/plain": [
       "[[0.0, 0.0], [5.0, 5.0], [0.0, 5.0]]"
      ]
     },
     "execution_count": 239,
     "metadata": {},
     "output_type": "execute_result"
    }
   ],
   "source": [
    "farthestfirst([[0.0 ,0.0],\n",
    "[5.0 ,5.0],\n",
    "[0.0 ,5.0],\n",
    "[1.0 ,1.0],\n",
    "[2.0 ,2.0],\n",
    "[3.0 ,3.0],\n",
    "[1.0 ,2.0]],3)"
   ]
  },
  {
   "cell_type": "code",
   "execution_count": 253,
   "metadata": {},
   "outputs": [],
   "source": [
    "file=open(\"dataset_38039_2 (5).txt\",\"r\")"
   ]
  },
  {
   "cell_type": "code",
   "execution_count": 254,
   "metadata": {},
   "outputs": [],
   "source": [
    "x=file.read()"
   ]
  },
  {
   "cell_type": "code",
   "execution_count": 255,
   "metadata": {},
   "outputs": [],
   "source": [
    "y=x.split(\"\\n\")[1:]"
   ]
  },
  {
   "cell_type": "code",
   "execution_count": 256,
   "metadata": {},
   "outputs": [
    {
     "data": {
      "text/plain": [
       "['9.3', '4.6', '2.6', '7.7']"
      ]
     },
     "execution_count": 256,
     "metadata": {},
     "output_type": "execute_result"
    }
   ],
   "source": [
    "y[166].split()"
   ]
  },
  {
   "cell_type": "code",
   "execution_count": 257,
   "metadata": {},
   "outputs": [],
   "source": [
    "y1=[]\n",
    "for i in y:\n",
    "    xx=i.split()\n",
    "    yy=[float(xx[0].strip(\" \")),float(xx[1].strip(\" \")),float(xx[2].strip(\" \")),float(xx[3].strip(\" \"))]\n",
    "    y1.append(yy)"
   ]
  },
  {
   "cell_type": "code",
   "execution_count": 258,
   "metadata": {
    "scrolled": false
   },
   "outputs": [],
   "source": [
    "ans=farthestfirst(y1,6)"
   ]
  },
  {
   "cell_type": "code",
   "execution_count": 260,
   "metadata": {},
   "outputs": [
    {
     "name": "stdout",
     "output_type": "stream",
     "text": [
      "19.3 2.7 5.2 1.8\n",
      "11.9 0.6 2.5 35.0\n",
      "5.8 4.7 3.9 0.0\n",
      "6.5 23.3 15.5 31.8\n",
      "4.1 7.3 24.7 0.0\n",
      "8.6 11.9 3.6 31.7\n"
     ]
    }
   ],
   "source": [
    "for i in ans:\n",
    "    print(i[0],i[1],i[2],i[3])"
   ]
  },
  {
   "cell_type": "markdown",
   "metadata": {},
   "source": [
    "# Squared Error Distortion"
   ]
  },
  {
   "cell_type": "code",
   "execution_count": 127,
   "metadata": {},
   "outputs": [],
   "source": [
    "def sqr_err(data,centers):\n",
    "    error=0\n",
    "    for i in data:\n",
    "        lis=[]\n",
    "        for j in centers:\n",
    "            error_cur=0\n",
    "            for k in range(len(j)):\n",
    "                error_cur+=(i[k]-j[k])**2\n",
    "            lis.append(error_cur)\n",
    "        error+=min(lis)\n",
    "    return(error/len(data))"
   ]
  },
  {
   "cell_type": "code",
   "execution_count": 74,
   "metadata": {},
   "outputs": [
    {
     "data": {
      "text/plain": [
       "6.0"
      ]
     },
     "execution_count": 74,
     "metadata": {},
     "output_type": "execute_result"
    }
   ],
   "source": [
    "sqr_err([[2, 6], [4, 9], [5, 7], [6, 5], [8, 3]],[[4, 5], [7, 4]])"
   ]
  },
  {
   "cell_type": "code",
   "execution_count": 103,
   "metadata": {},
   "outputs": [
    {
     "data": {
      "text/plain": [
       "18.245559999999994"
      ]
     },
     "execution_count": 103,
     "metadata": {},
     "output_type": "execute_result"
    }
   ],
   "source": [
    "sqr_err([[3.42 ,6.03],\n",
    "[6.23, 8.25],\n",
    "[4.76 ,1.64],\n",
    "[4.47 ,4.33],\n",
    "[3.95 ,7.61],\n",
    "[8.93 ,2.97],\n",
    "[9.74 ,4.03],\n",
    "[1.73 ,1.28],\n",
    "[9.72 ,5.01],\n",
    "[7.27 ,3.77]],[[2.31, 4.55],[5.96, 9.08]])"
   ]
  },
  {
   "cell_type": "code",
   "execution_count": 133,
   "metadata": {},
   "outputs": [],
   "source": [
    "y=open(\"dataset_10927_3 (6).txt\",\"r\")"
   ]
  },
  {
   "cell_type": "code",
   "execution_count": 134,
   "metadata": {},
   "outputs": [],
   "source": [
    "txt=y.read()"
   ]
  },
  {
   "cell_type": "code",
   "execution_count": 135,
   "metadata": {},
   "outputs": [],
   "source": [
    "m=txt.split(\"\\n\")"
   ]
  },
  {
   "cell_type": "code",
   "execution_count": 136,
   "metadata": {},
   "outputs": [],
   "source": [
    "ll=[]\n",
    "for i in m:\n",
    "    x=i.split()\n",
    "    l=[]\n",
    "    for j in x:\n",
    "        l.append(float(j))\n",
    "    ll.append(l)"
   ]
  },
  {
   "cell_type": "code",
   "execution_count": 137,
   "metadata": {},
   "outputs": [],
   "source": [
    "x=[[5.1 ,1.5],\n",
    "[7.5 ,7.6],\n",
    "[7.0 ,0.6],\n",
    "[5.7 ,7.0]]"
   ]
  },
  {
   "cell_type": "code",
   "execution_count": 138,
   "metadata": {},
   "outputs": [
    {
     "data": {
      "text/plain": [
       "8.602519214346717"
      ]
     },
     "execution_count": 138,
     "metadata": {},
     "output_type": "execute_result"
    }
   ],
   "source": [
    "sqr_err(ll,x)"
   ]
  },
  {
   "cell_type": "markdown",
   "metadata": {},
   "source": [
    "# Lloyd Algorithm"
   ]
  },
  {
   "cell_type": "markdown",
   "metadata": {},
   "source": [
    "## The Lloyd algorithm is one of the most popular clustering heuristics for the k-Means Clustering Problem. It first chooses k arbitrary distinct points Centers from Data as centers and then iteratively performs the following two steps :\n",
    "\n",
    "### Centers to Clusters: After centers have been selected, assign each data point to the cluster corresponding to its nearest center; ties are broken arbitrarily.\n",
    "### Clusters to Centers: After data points have been assigned to clusters, assign each cluster’s center of gravity to be the cluster’s new center.\n",
    "\n"
   ]
  },
  {
   "cell_type": "code",
   "execution_count": 139,
   "metadata": {},
   "outputs": [],
   "source": [
    "from collections import defaultdict\n",
    "def llyod_algo(data,k,n):\n",
    "    centers=data[0:k]\n",
    "    #print(centers)\n",
    "    dict_={}\n",
    "    while (n>0):\n",
    "        for i in range(len(data)):\n",
    "            dict_[i]=close_cent(data[i],centers)\n",
    "        cluster=defaultdict(list)\n",
    "        for key,val in sorted(dict_.items()):\n",
    "            cluster[val].append(key)\n",
    "        #print(cluster)\n",
    "        for j in cluster:\n",
    "            cg=cog(cluster[j],data)\n",
    "            centers[j]=cg\n",
    "        n=n-1\n",
    "    return(centers)"
   ]
  },
  {
   "cell_type": "code",
   "execution_count": 140,
   "metadata": {},
   "outputs": [],
   "source": [
    "def close_cent(data,centers):\n",
    "    length=0\n",
    "    length_f=10000000000000\n",
    "    x=0\n",
    "    for i in range(len(centers)):\n",
    "        length=0\n",
    "        for j in range(len(centers[i])):\n",
    "            length+=(data[j]-centers[i][j])**2\n",
    "        if length<length_f:\n",
    "            x=i\n",
    "            length_f=length\n",
    "    return(x)"
   ]
  },
  {
   "cell_type": "code",
   "execution_count": 141,
   "metadata": {},
   "outputs": [],
   "source": [
    "def cog(list1,data):\n",
    "    cog_=[]\n",
    "    for i in range(len(data[0])):\n",
    "        s=0\n",
    "        for j in (list1):\n",
    "            s+=float(data[j][i])\n",
    "        cog_.append(s/len(list1))    \n",
    "    return(cog_)"
   ]
  },
  {
   "cell_type": "code",
   "execution_count": 142,
   "metadata": {},
   "outputs": [],
   "source": [
    "dat=[[1.3, 1.1],\n",
    "[1.3, 0.2],\n",
    "[0.6, 2.8],\n",
    "[3.0, 3.2],\n",
    "[1.2, 0.7],\n",
    "[1.4, 1.6],\n",
    "[1.2, 1.0],\n",
    "[1.2, 1.1],\n",
    "[0.6 ,1.5],\n",
    "[1.8 ,2.6],\n",
    "[1.2 ,1.3],\n",
    "[1.2 ,1.0],\n",
    "[0.0 ,1.9]]"
   ]
  },
  {
   "cell_type": "code",
   "execution_count": 149,
   "metadata": {},
   "outputs": [
    {
     "name": "stdout",
     "output_type": "stream",
     "text": [
      "7.552406417112301\n",
      "18.088770053475926\n",
      "7.767379679144388\n",
      "7.892513368983962\n",
      "8.155080213903746\n",
      "6.3223958333333306\n",
      "6.455729166666665\n",
      "16.99270833333334\n",
      "6.575\n",
      "5.968229166666671\n",
      "5.294329896907217\n",
      "5.294587628865975\n",
      "4.783762886597938\n",
      "4.839175257731958\n",
      "4.776288659793814\n",
      "18.26512820512821\n",
      "6.397948717948714\n",
      "6.248205128205125\n",
      "6.618974358974362\n",
      "6.092820512820512\n",
      "7.231428571428572\n",
      "5.931428571428571\n",
      "7.190476190476184\n",
      "18.13761904761905\n",
      "7.100952380952382\n",
      "7.0467032967032965\n",
      "6.278021978021976\n",
      "6.58186813186813\n",
      "6.298351648351647\n",
      "18.504945054945054\n"
     ]
    }
   ],
   "source": [
    "a=llyod_algo(ll,6,1000)\n",
    "for o in a:\n",
    "    for oo in o:\n",
    "        print(oo);"
   ]
  },
  {
   "cell_type": "code",
   "execution_count": 148,
   "metadata": {},
   "outputs": [],
   "source": [
    "f=open(\"dataset_10928_3 (3).txt\",\"r\")\n",
    "xxx=f.read()\n",
    "m=xxx.split(\"\\n\")\n",
    "ll=[]\n",
    "for i in m:\n",
    "    x=i.split()\n",
    "    l=[]\n",
    "    for j in x:\n",
    "        l.append(float(j))\n",
    "    ll.append(l)"
   ]
  },
  {
   "cell_type": "code",
   "execution_count": 151,
   "metadata": {},
   "outputs": [],
   "source": [
    "Data=[[2, 6], [4, 9], [5, 7], [6, 5], [8, 3]]\n",
    "\n",
    "Centers=[[4, 5], [7, 4]]"
   ]
  },
  {
   "cell_type": "code",
   "execution_count": 159,
   "metadata": {},
   "outputs": [],
   "source": [
    "d=0\n",
    "\n",
    "xx=[]\n",
    "for i in Data:\n",
    "    x=[]\n",
    "    for j in Centers:\n",
    "        x.append(distance(i,[j]))\n",
    "    xx.append(min(x))"
   ]
  },
  {
   "cell_type": "code",
   "execution_count": 160,
   "metadata": {},
   "outputs": [
    {
     "data": {
      "text/plain": [
       "[2.23606797749979,\n",
       " 4.0,\n",
       " 2.23606797749979,\n",
       " 1.4142135623730951,\n",
       " 1.4142135623730951]"
      ]
     },
     "execution_count": 160,
     "metadata": {},
     "output_type": "execute_result"
    }
   ],
   "source": [
    "xx"
   ]
  },
  {
   "cell_type": "code",
   "execution_count": 163,
   "metadata": {},
   "outputs": [
    {
     "data": {
      "text/plain": [
       "2.825140769936443"
      ]
     },
     "execution_count": 163,
     "metadata": {},
     "output_type": "execute_result"
    }
   ],
   "source": [
    "sum(xx)/4"
   ]
  },
  {
   "cell_type": "code",
   "execution_count": null,
   "metadata": {},
   "outputs": [],
   "source": []
  }
 ],
 "metadata": {
  "kernelspec": {
   "display_name": "Python 3",
   "language": "python",
   "name": "python3"
  },
  "language_info": {
   "codemirror_mode": {
    "name": "ipython",
    "version": 3
   },
   "file_extension": ".py",
   "mimetype": "text/x-python",
   "name": "python",
   "nbconvert_exporter": "python",
   "pygments_lexer": "ipython3",
   "version": "3.7.6"
  }
 },
 "nbformat": 4,
 "nbformat_minor": 2
}
